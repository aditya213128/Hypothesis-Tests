{
 "cells": [
  {
   "cell_type": "code",
   "execution_count": 1,
   "metadata": {},
   "outputs": [],
   "source": [
    "#importing the few important library\n",
    "import pandas as pd\n",
    "import numpy as np\n",
    "import scipy"
   ]
  },
  {
   "cell_type": "code",
   "execution_count": 2,
   "metadata": {},
   "outputs": [],
   "source": [
    "#importing the dataset\n",
    "data=pd.read_csv(\"PacificWest-Customer-Campaign-data.csv\",sep=\",\",header=0)"
   ]
  },
  {
   "cell_type": "code",
   "execution_count": 3,
   "metadata": {},
   "outputs": [
    {
     "name": "stdout",
     "output_type": "stream",
     "text": [
      "<class 'pandas.core.frame.DataFrame'>\n",
      "RangeIndex: 9134 entries, 0 to 9133\n",
      "Data columns (total 24 columns):\n",
      "Customer ID                      9134 non-null object\n",
      "State                            9134 non-null object\n",
      "Location Code                    9134 non-null object\n",
      "Gender                           9134 non-null object\n",
      "Marital Status                   9134 non-null object\n",
      "Education                        9134 non-null object\n",
      "Employment Status                9134 non-null object\n",
      "Income (USD)                     9134 non-null float64\n",
      "Effective To Date                9134 non-null object\n",
      "Customer Lifetime Value (USD)    9134 non-null float64\n",
      "Coverage                         9134 non-null object\n",
      "Monthly Premium Auto (USD)       9134 non-null int64\n",
      "Number of Policies               9134 non-null int64\n",
      "Policy Type                      9134 non-null object\n",
      "Policy                           9134 non-null object\n",
      "Months Since Policy Inception    9134 non-null int64\n",
      "Months Since Last Claim          9134 non-null int64\n",
      "Sales Channel                    9134 non-null object\n",
      "Renew Offer Type                 9134 non-null object\n",
      "Number of Open Complaints        9134 non-null int64\n",
      "Total Claim Amount (USD)         9134 non-null float64\n",
      "Vehicle Class                    9134 non-null object\n",
      "Vehicle Size                     9134 non-null object\n",
      "Response                         9134 non-null object\n",
      "dtypes: float64(3), int64(5), object(16)\n",
      "memory usage: 1.7+ MB\n"
     ]
    },
    {
     "data": {
      "text/plain": [
       "9134"
      ]
     },
     "execution_count": 3,
     "metadata": {},
     "output_type": "execute_result"
    }
   ],
   "source": [
    "data.info()\n",
    "data.shape\n",
    "data.columns\n",
    "data.head()\n",
    "data.tail()\n",
    "len(data)"
   ]
  },
  {
   "cell_type": "code",
   "execution_count": 22,
   "metadata": {},
   "outputs": [
    {
     "data": {
      "text/html": [
       "<div>\n",
       "<style scoped>\n",
       "    .dataframe tbody tr th:only-of-type {\n",
       "        vertical-align: middle;\n",
       "    }\n",
       "\n",
       "    .dataframe tbody tr th {\n",
       "        vertical-align: top;\n",
       "    }\n",
       "\n",
       "    .dataframe thead th {\n",
       "        text-align: right;\n",
       "    }\n",
       "</style>\n",
       "<table border=\"1\" class=\"dataframe\">\n",
       "  <thead>\n",
       "    <tr style=\"text-align: right;\">\n",
       "      <th></th>\n",
       "      <th>Income (USD)</th>\n",
       "      <th>Customer Lifetime Value (USD)</th>\n",
       "      <th>Monthly Premium Auto (USD)</th>\n",
       "      <th>Number of Policies</th>\n",
       "      <th>Months Since Policy Inception</th>\n",
       "      <th>Months Since Last Claim</th>\n",
       "      <th>Number of Open Complaints</th>\n",
       "      <th>Total Claim Amount (USD)</th>\n",
       "    </tr>\n",
       "  </thead>\n",
       "  <tbody>\n",
       "    <tr>\n",
       "      <th>count</th>\n",
       "      <td>9134.000000</td>\n",
       "      <td>9134.000000</td>\n",
       "      <td>9134.000000</td>\n",
       "      <td>9134.000000</td>\n",
       "      <td>9134.000000</td>\n",
       "      <td>9134.000000</td>\n",
       "      <td>9134.000000</td>\n",
       "      <td>9134.000000</td>\n",
       "    </tr>\n",
       "    <tr>\n",
       "      <th>mean</th>\n",
       "      <td>37657.380009</td>\n",
       "      <td>8004.952157</td>\n",
       "      <td>93.219291</td>\n",
       "      <td>2.966170</td>\n",
       "      <td>48.064594</td>\n",
       "      <td>15.097000</td>\n",
       "      <td>0.384388</td>\n",
       "      <td>434.089665</td>\n",
       "    </tr>\n",
       "    <tr>\n",
       "      <th>std</th>\n",
       "      <td>30379.904734</td>\n",
       "      <td>6870.969019</td>\n",
       "      <td>34.407967</td>\n",
       "      <td>2.390182</td>\n",
       "      <td>27.905991</td>\n",
       "      <td>10.073257</td>\n",
       "      <td>0.910384</td>\n",
       "      <td>290.492785</td>\n",
       "    </tr>\n",
       "    <tr>\n",
       "      <th>min</th>\n",
       "      <td>0.000000</td>\n",
       "      <td>1898.000000</td>\n",
       "      <td>61.000000</td>\n",
       "      <td>1.000000</td>\n",
       "      <td>0.000000</td>\n",
       "      <td>0.000000</td>\n",
       "      <td>0.000000</td>\n",
       "      <td>0.000000</td>\n",
       "    </tr>\n",
       "    <tr>\n",
       "      <th>25%</th>\n",
       "      <td>0.000000</td>\n",
       "      <td>3994.250000</td>\n",
       "      <td>68.000000</td>\n",
       "      <td>1.000000</td>\n",
       "      <td>24.000000</td>\n",
       "      <td>6.000000</td>\n",
       "      <td>0.000000</td>\n",
       "      <td>272.000000</td>\n",
       "    </tr>\n",
       "    <tr>\n",
       "      <th>50%</th>\n",
       "      <td>33889.500000</td>\n",
       "      <td>5780.000000</td>\n",
       "      <td>83.000000</td>\n",
       "      <td>2.000000</td>\n",
       "      <td>48.000000</td>\n",
       "      <td>14.000000</td>\n",
       "      <td>0.000000</td>\n",
       "      <td>384.000000</td>\n",
       "    </tr>\n",
       "    <tr>\n",
       "      <th>75%</th>\n",
       "      <td>62320.000000</td>\n",
       "      <td>8962.250000</td>\n",
       "      <td>109.000000</td>\n",
       "      <td>4.000000</td>\n",
       "      <td>71.000000</td>\n",
       "      <td>23.000000</td>\n",
       "      <td>0.000000</td>\n",
       "      <td>547.750000</td>\n",
       "    </tr>\n",
       "    <tr>\n",
       "      <th>max</th>\n",
       "      <td>99981.000000</td>\n",
       "      <td>83325.000000</td>\n",
       "      <td>298.000000</td>\n",
       "      <td>9.000000</td>\n",
       "      <td>99.000000</td>\n",
       "      <td>35.000000</td>\n",
       "      <td>5.000000</td>\n",
       "      <td>2893.000000</td>\n",
       "    </tr>\n",
       "  </tbody>\n",
       "</table>\n",
       "</div>"
      ],
      "text/plain": [
       "       Income (USD)  Customer Lifetime Value (USD)  \\\n",
       "count   9134.000000                    9134.000000   \n",
       "mean   37657.380009                    8004.952157   \n",
       "std    30379.904734                    6870.969019   \n",
       "min        0.000000                    1898.000000   \n",
       "25%        0.000000                    3994.250000   \n",
       "50%    33889.500000                    5780.000000   \n",
       "75%    62320.000000                    8962.250000   \n",
       "max    99981.000000                   83325.000000   \n",
       "\n",
       "       Monthly Premium Auto (USD)  Number of Policies  \\\n",
       "count                 9134.000000         9134.000000   \n",
       "mean                    93.219291            2.966170   \n",
       "std                     34.407967            2.390182   \n",
       "min                     61.000000            1.000000   \n",
       "25%                     68.000000            1.000000   \n",
       "50%                     83.000000            2.000000   \n",
       "75%                    109.000000            4.000000   \n",
       "max                    298.000000            9.000000   \n",
       "\n",
       "       Months Since Policy Inception  Months Since Last Claim  \\\n",
       "count                    9134.000000              9134.000000   \n",
       "mean                       48.064594                15.097000   \n",
       "std                        27.905991                10.073257   \n",
       "min                         0.000000                 0.000000   \n",
       "25%                        24.000000                 6.000000   \n",
       "50%                        48.000000                14.000000   \n",
       "75%                        71.000000                23.000000   \n",
       "max                        99.000000                35.000000   \n",
       "\n",
       "       Number of Open Complaints  Total Claim Amount (USD)  \n",
       "count                9134.000000               9134.000000  \n",
       "mean                    0.384388                434.089665  \n",
       "std                     0.910384                290.492785  \n",
       "min                     0.000000                  0.000000  \n",
       "25%                     0.000000                272.000000  \n",
       "50%                     0.000000                384.000000  \n",
       "75%                     0.000000                547.750000  \n",
       "max                     5.000000               2893.000000  "
      ]
     },
     "execution_count": 22,
     "metadata": {},
     "output_type": "execute_result"
    }
   ],
   "source": [
    "data.describe()"
   ]
  },
  {
   "cell_type": "code",
   "execution_count": 23,
   "metadata": {},
   "outputs": [
    {
     "name": "stdout",
     "output_type": "stream",
     "text": [
      "Number of numerical variables:  8\n"
     ]
    },
    {
     "data": {
      "text/html": [
       "<div>\n",
       "<style scoped>\n",
       "    .dataframe tbody tr th:only-of-type {\n",
       "        vertical-align: middle;\n",
       "    }\n",
       "\n",
       "    .dataframe tbody tr th {\n",
       "        vertical-align: top;\n",
       "    }\n",
       "\n",
       "    .dataframe thead th {\n",
       "        text-align: right;\n",
       "    }\n",
       "</style>\n",
       "<table border=\"1\" class=\"dataframe\">\n",
       "  <thead>\n",
       "    <tr style=\"text-align: right;\">\n",
       "      <th></th>\n",
       "      <th>Income (USD)</th>\n",
       "      <th>Customer Lifetime Value (USD)</th>\n",
       "      <th>Monthly Premium Auto (USD)</th>\n",
       "      <th>Number of Policies</th>\n",
       "      <th>Months Since Policy Inception</th>\n",
       "      <th>Months Since Last Claim</th>\n",
       "      <th>Number of Open Complaints</th>\n",
       "      <th>Total Claim Amount (USD)</th>\n",
       "    </tr>\n",
       "  </thead>\n",
       "  <tbody>\n",
       "    <tr>\n",
       "      <th>0</th>\n",
       "      <td>56274.0</td>\n",
       "      <td>2764.0</td>\n",
       "      <td>69</td>\n",
       "      <td>1</td>\n",
       "      <td>5</td>\n",
       "      <td>32</td>\n",
       "      <td>0</td>\n",
       "      <td>385.0</td>\n",
       "    </tr>\n",
       "    <tr>\n",
       "      <th>1</th>\n",
       "      <td>0.0</td>\n",
       "      <td>6980.0</td>\n",
       "      <td>94</td>\n",
       "      <td>8</td>\n",
       "      <td>42</td>\n",
       "      <td>13</td>\n",
       "      <td>0</td>\n",
       "      <td>1131.0</td>\n",
       "    </tr>\n",
       "    <tr>\n",
       "      <th>2</th>\n",
       "      <td>48767.0</td>\n",
       "      <td>12887.0</td>\n",
       "      <td>108</td>\n",
       "      <td>2</td>\n",
       "      <td>38</td>\n",
       "      <td>18</td>\n",
       "      <td>0</td>\n",
       "      <td>566.0</td>\n",
       "    </tr>\n",
       "    <tr>\n",
       "      <th>3</th>\n",
       "      <td>0.0</td>\n",
       "      <td>7646.0</td>\n",
       "      <td>106</td>\n",
       "      <td>7</td>\n",
       "      <td>65</td>\n",
       "      <td>18</td>\n",
       "      <td>0</td>\n",
       "      <td>530.0</td>\n",
       "    </tr>\n",
       "    <tr>\n",
       "      <th>4</th>\n",
       "      <td>43836.0</td>\n",
       "      <td>2814.0</td>\n",
       "      <td>73</td>\n",
       "      <td>1</td>\n",
       "      <td>44</td>\n",
       "      <td>12</td>\n",
       "      <td>0</td>\n",
       "      <td>138.0</td>\n",
       "    </tr>\n",
       "  </tbody>\n",
       "</table>\n",
       "</div>"
      ],
      "text/plain": [
       "   Income (USD)  Customer Lifetime Value (USD)  Monthly Premium Auto (USD)  \\\n",
       "0       56274.0                         2764.0                          69   \n",
       "1           0.0                         6980.0                          94   \n",
       "2       48767.0                        12887.0                         108   \n",
       "3           0.0                         7646.0                         106   \n",
       "4       43836.0                         2814.0                          73   \n",
       "\n",
       "   Number of Policies  Months Since Policy Inception  Months Since Last Claim  \\\n",
       "0                   1                              5                       32   \n",
       "1                   8                             42                       13   \n",
       "2                   2                             38                       18   \n",
       "3                   7                             65                       18   \n",
       "4                   1                             44                       12   \n",
       "\n",
       "   Number of Open Complaints  Total Claim Amount (USD)  \n",
       "0                          0                     385.0  \n",
       "1                          0                    1131.0  \n",
       "2                          0                     566.0  \n",
       "3                          0                     530.0  \n",
       "4                          0                     138.0  "
      ]
     },
     "execution_count": 23,
     "metadata": {},
     "output_type": "execute_result"
    }
   ],
   "source": [
    "# make list of numerical variables\n",
    "num_vars = [var for var in data.columns if data[var].dtypes != 'O']\n",
    "print('Number of numerical variables: ', len(num_vars))\n",
    "\n",
    "# visualise the numerical variables\n",
    "data[num_vars].head()"
   ]
  },
  {
   "cell_type": "code",
   "execution_count": 24,
   "metadata": {},
   "outputs": [
    {
     "name": "stdout",
     "output_type": "stream",
     "text": [
      "Number of discrete variables:  2\n"
     ]
    }
   ],
   "source": [
    "#  let's male a list of discrete variables\n",
    "discrete_vars = [var for var in num_vars if len(\n",
    "    data[var].unique()) < 20]\n",
    "\n",
    "print('Number of discrete variables: ', len(discrete_vars))"
   ]
  },
  {
   "cell_type": "code",
   "execution_count": 25,
   "metadata": {},
   "outputs": [
    {
     "name": "stdout",
     "output_type": "stream",
     "text": [
      "Number of continuous variables:  6\n"
     ]
    }
   ],
   "source": [
    "# make list of continuous variables\n",
    "cont_vars = [\n",
    "    var for var in num_vars if var not in discrete_vars]\n",
    "print('Number of continuous variables: ', len(cont_vars))"
   ]
  },
  {
   "cell_type": "code",
   "execution_count": 26,
   "metadata": {},
   "outputs": [
    {
     "name": "stdout",
     "output_type": "stream",
     "text": [
      "Number of categorical variables:  14\n"
     ]
    },
    {
     "data": {
      "text/plain": [
       "['State',\n",
       " 'Location Code',\n",
       " 'Gender',\n",
       " 'Marital Status',\n",
       " 'Education',\n",
       " 'Employment Status',\n",
       " 'Coverage',\n",
       " 'Policy Type',\n",
       " 'Policy',\n",
       " 'Sales Channel',\n",
       " 'Renew Offer Type',\n",
       " 'Vehicle Class',\n",
       " 'Vehicle Size',\n",
       " 'Response']"
      ]
     },
     "execution_count": 26,
     "metadata": {},
     "output_type": "execute_result"
    }
   ],
   "source": [
    "# capture categorical variables in a list\n",
    "cat_vars = [var for var in data.columns if data[var].dtypes == 'O' and var not in ['Customer ID','Effective To Date']]\n",
    "\n",
    "print('Number of categorical variables: ', len(cat_vars))\n",
    "cat_vars"
   ]
  },
  {
   "cell_type": "markdown",
   "metadata": {},
   "source": [
    "# Bi-Variate Parametric Statistical Significance Test"
   ]
  },
  {
   "attachments": {
    "image.png": {
     "image/png": "[encoded data removed]"
    }
   },
   "cell_type": "markdown",
   "metadata": {},
   "source": [
    "![image.png](attachment:image.png)"
   ]
  },
  {
   "cell_type": "code",
   "execution_count": 10,
   "metadata": {},
   "outputs": [],
   "source": [
    "from scipy.stats import ttest_1samp \n",
    "from scipy import stats"
   ]
  },
  {
   "cell_type": "code",
   "execution_count": 37,
   "metadata": {},
   "outputs": [
    {
     "name": "stdout",
     "output_type": "stream",
     "text": [
      "Pvalue 3.586788538020935e-11\n",
      "Since P value is <0.05 so result is statistically significant and hence rejecting null hypothesis of mean of month policy =50\n"
     ]
    }
   ],
   "source": [
    "#1 Sample Ttest\n",
    "tset, pval = ttest_1samp(data['Months Since Policy Inception'],50)\n",
    "print('Pvalue',pval)\n",
    "if pval < 0.05:    # alpha value is 0.05 or 5%\n",
    "   print(\"Since P value is <0.05 so result is statistically significant and hence rejecting null hypothesis of mean of month policy =50\")\n",
    "else:\n",
    "  print('Result is statistically Insignificant hence we can not reject null hypothesis')"
   ]
  },
  {
   "cell_type": "code",
   "execution_count": 36,
   "metadata": {},
   "outputs": [
    {
     "name": "stdout",
     "output_type": "stream",
     "text": [
      "Pvalue 0.19344179071643408\n",
      "Result is statistically Insignificant hence we can not reject null hypothesis\n"
     ]
    }
   ],
   "source": [
    "#2 Sample Independent Ttest\n",
    "from scipy.stats import ttest_ind\n",
    "import pandas as pd\n",
    "grps = pd.unique(data.Gender.values)\n",
    "d_data = {grp:data['Customer Lifetime Value (USD)'][data.Gender == grp] for grp in grps}\n",
    "ttest,pval = ttest_ind(d_data['M'],d_data['F'])\n",
    "print('Pvalue',pval)\n",
    "\n",
    "if pval < 0.05:    # alpha value is 0.05 or 5%\n",
    "   print(\"Since P value is <0.05 so result is statistically significant and hence rejecting null hypothesis of means of different groups are equal\")\n",
    "else:\n",
    "  print('Result is statistically Insignificant hence we can not reject null hypothesis')"
   ]
  },
  {
   "cell_type": "code",
   "execution_count": 15,
   "metadata": {},
   "outputs": [],
   "source": [
    "#2 Sample Paired Ttes\n",
    "weight1 = [0.6, 0.9,  0.4, 0.9, 0.5, 0.8, 0.2, 0.2, 0, 0.8]\n",
    "weight2 = [1.1, 0.9, 0.5, 0.7, 0.6, 0.7, 0.3, 0.1, 0.1, 0.7]"
   ]
  },
  {
   "cell_type": "code",
   "execution_count": 71,
   "metadata": {},
   "outputs": [
    {
     "name": "stdout",
     "output_type": "stream",
     "text": [
      "Pvalue 0.5337858366853897\n",
      "TTest -0.64699663922063\n",
      "Result is statistically Insignificant hence we can not reject null hypothesis\n"
     ]
    }
   ],
   "source": [
    "ttest,pval=stats.ttest_rel(weight1,weight2)\n",
    "print('Pvalue',pval)\n",
    "print('TTest',ttest)\n",
    "if pval < 0.05:    # alpha value is 0.05 or 5%\n",
    "   print(\"Since P value is <0.05 so result is statistically significant and hence rejecting null hypothesis of means of difference=0\")\n",
    "else:\n",
    "  print('Result is statistically Insignificant hence we can not reject null hypothesis')"
   ]
  },
  {
   "cell_type": "code",
   "execution_count": 24,
   "metadata": {},
   "outputs": [
    {
     "data": {
      "text/plain": [
       "Ttest_relResult(statistic=-0.64699663922063, pvalue=0.5337858366853897)"
      ]
     },
     "execution_count": 24,
     "metadata": {},
     "output_type": "execute_result"
    }
   ],
   "source": [
    "stats.ttest_rel(weight1,weight2)"
   ]
  },
  {
   "cell_type": "code",
   "execution_count": 5,
   "metadata": {},
   "outputs": [
    {
     "data": {
      "text/plain": [
       "Personal Auto     6788\n",
       "Corporate Auto    1968\n",
       "Special Auto       378\n",
       "Name: Policy Type, dtype: int64"
      ]
     },
     "execution_count": 5,
     "metadata": {},
     "output_type": "execute_result"
    }
   ],
   "source": [
    "#Anova and F Test\n",
    "#Monthly Premium Auto (USD)\n",
    "#Policy Type\n",
    "data['Policy Type'].value_counts()"
   ]
  },
  {
   "cell_type": "code",
   "execution_count": 6,
   "metadata": {},
   "outputs": [
    {
     "data": {
      "text/plain": [
       "count    9134.000000\n",
       "mean       93.219291\n",
       "std        34.407967\n",
       "min        61.000000\n",
       "25%        68.000000\n",
       "50%        83.000000\n",
       "75%       109.000000\n",
       "max       298.000000\n",
       "Name: Monthly Premium Auto (USD), dtype: float64"
      ]
     },
     "execution_count": 6,
     "metadata": {},
     "output_type": "execute_result"
    }
   ],
   "source": [
    "data['Monthly Premium Auto (USD)'].describe()"
   ]
  },
  {
   "cell_type": "code",
   "execution_count": 11,
   "metadata": {},
   "outputs": [
    {
     "data": {
      "text/plain": [
       "Policy Type\n",
       "Corporate Auto    93.238313\n",
       "Personal Auto     93.230849\n",
       "Special Auto      92.912698\n",
       "Name: Monthly Premium Auto (USD), dtype: float64"
      ]
     },
     "execution_count": 11,
     "metadata": {},
     "output_type": "execute_result"
    }
   ],
   "source": [
    "grouped = data.groupby('Policy Type')\n",
    "grouped['Monthly Premium Auto (USD)'].agg(np.mean)"
   ]
  },
  {
   "cell_type": "code",
   "execution_count": 33,
   "metadata": {},
   "outputs": [
    {
     "name": "stdout",
     "output_type": "stream",
     "text": [
      "0.015686366275710566 0.9844360505076343\n",
      "Pvalue 0.9844360505076343\n",
      "Result is statistically Insignificant hence we can not reject null hypothesis\n"
     ]
    }
   ],
   "source": [
    "Ftest,Pval=scipy.stats.f_oneway(data['Monthly Premium Auto (USD)'][data['Policy Type'] == 'Corporate Auto'], \n",
    "             data['Monthly Premium Auto (USD)'][data['Policy Type'] == 'Personal Auto'],\n",
    "             data['Monthly Premium Auto (USD)'][data['Policy Type'] == 'Special Auto'])\n",
    "print(Ftest,Pval)\n",
    "print('Pvalue',Pval)\n",
    "if Pval < 0.05:    # alpha value is 0.05 or 5%\n",
    "   print(\"Since P value is <0.05 so result is statistically significant and hence rejecting null hypothesis of means of different groups are equal\")\n",
    "else:\n",
    "  print('Result is statistically Insignificant hence we can not reject null hypothesis')"
   ]
  },
  {
   "cell_type": "code",
   "execution_count": 19,
   "metadata": {},
   "outputs": [],
   "source": [
    "#Anova Second Method\n",
    "import statsmodels.api as sm\n",
    "from statsmodels.formula.api  import ols"
   ]
  },
  {
   "cell_type": "code",
   "execution_count": 48,
   "metadata": {},
   "outputs": [
    {
     "data": {
      "text/plain": [
       "Index(['Customer ID', 'State', 'Location Code', 'Gender', 'Marital Status',\n",
       "       'Education', 'Employment Status', 'Income (USD)', 'Effective To Date',\n",
       "       'Customer Lifetime Value (USD)', 'Coverage', 'Monthly_Premium_Auto',\n",
       "       'Number of Policies', 'Policy_Type', 'Policy',\n",
       "       'Months Since Policy Inception', 'Months Since Last Claim',\n",
       "       'Sales Channel', 'Renew Offer Type', 'Number of Open Complaints',\n",
       "       'Total Claim Amount (USD)', 'Vehicle Class', 'Vehicle Size',\n",
       "       'Response'],\n",
       "      dtype='object')"
      ]
     },
     "execution_count": 48,
     "metadata": {},
     "output_type": "execute_result"
    }
   ],
   "source": [
    "data1=data.rename(columns = {\"Policy Type\": \"Policy_Type\", \n",
    "                                  \"Monthly Premium Auto (USD)\":\"Monthly_Premium_Auto\"})\n",
    "data1.columns"
   ]
  },
  {
   "cell_type": "code",
   "execution_count": 52,
   "metadata": {},
   "outputs": [],
   "source": [
    "anova_test=ols('Monthly_Premium_Auto ~ C(Policy_Type)',data=data1)\n",
    "results=anova_test.fit()"
   ]
  },
  {
   "cell_type": "code",
   "execution_count": 53,
   "metadata": {},
   "outputs": [
    {
     "data": {
      "text/html": [
       "<table class=\"simpletable\">\n",
       "<caption>OLS Regression Results</caption>\n",
       "<tr>\n",
       "  <th>Dep. Variable:</th>    <td>Monthly_Premium_Auto</td> <th>  R-squared:         </th> <td>   0.000</td> \n",
       "</tr>\n",
       "<tr>\n",
       "  <th>Model:</th>                     <td>OLS</td>         <th>  Adj. R-squared:    </th> <td>  -0.000</td> \n",
       "</tr>\n",
       "<tr>\n",
       "  <th>Method:</th>               <td>Least Squares</td>    <th>  F-statistic:       </th> <td> 0.01569</td> \n",
       "</tr>\n",
       "<tr>\n",
       "  <th>Date:</th>               <td>Mon, 20 Apr 2020</td>   <th>  Prob (F-statistic):</th>  <td> 0.984</td>  \n",
       "</tr>\n",
       "<tr>\n",
       "  <th>Time:</th>                   <td>18:05:24</td>       <th>  Log-Likelihood:    </th> <td> -45279.</td> \n",
       "</tr>\n",
       "<tr>\n",
       "  <th>No. Observations:</th>        <td>  9134</td>        <th>  AIC:               </th> <td>9.056e+04</td>\n",
       "</tr>\n",
       "<tr>\n",
       "  <th>Df Residuals:</th>            <td>  9131</td>        <th>  BIC:               </th> <td>9.058e+04</td>\n",
       "</tr>\n",
       "<tr>\n",
       "  <th>Df Model:</th>                <td>     2</td>        <th>                     </th>     <td> </td>    \n",
       "</tr>\n",
       "<tr>\n",
       "  <th>Covariance Type:</th>        <td>nonrobust</td>      <th>                     </th>     <td> </td>    \n",
       "</tr>\n",
       "</table>\n",
       "<table class=\"simpletable\">\n",
       "<tr>\n",
       "                 <td></td>                    <th>coef</th>     <th>std err</th>      <th>t</th>      <th>P>|t|</th>  <th>[0.025</th>    <th>0.975]</th>  \n",
       "</tr>\n",
       "<tr>\n",
       "  <th>Intercept</th>                       <td>   93.2383</td> <td>    0.776</td> <td>  120.199</td> <td> 0.000</td> <td>   91.718</td> <td>   94.759</td>\n",
       "</tr>\n",
       "<tr>\n",
       "  <th>C(Policy_Type)[T.Personal Auto]</th> <td>   -0.0075</td> <td>    0.881</td> <td>   -0.008</td> <td> 0.993</td> <td>   -1.734</td> <td>    1.719</td>\n",
       "</tr>\n",
       "<tr>\n",
       "  <th>C(Policy_Type)[T.Special Auto]</th>  <td>   -0.3256</td> <td>    1.932</td> <td>   -0.168</td> <td> 0.866</td> <td>   -4.114</td> <td>    3.462</td>\n",
       "</tr>\n",
       "</table>\n",
       "<table class=\"simpletable\">\n",
       "<tr>\n",
       "  <th>Omnibus:</th>       <td>4064.398</td> <th>  Durbin-Watson:     </th> <td>   1.999</td> \n",
       "</tr>\n",
       "<tr>\n",
       "  <th>Prob(Omnibus):</th>  <td> 0.000</td>  <th>  Jarque-Bera (JB):  </th> <td>21438.734</td>\n",
       "</tr>\n",
       "<tr>\n",
       "  <th>Skew:</th>           <td> 2.123</td>  <th>  Prob(JB):          </th> <td>    0.00</td> \n",
       "</tr>\n",
       "<tr>\n",
       "  <th>Kurtosis:</th>       <td> 9.189</td>  <th>  Cond. No.          </th> <td>    7.09</td> \n",
       "</tr>\n",
       "</table><br/><br/>Warnings:<br/>[1] Standard Errors assume that the covariance matrix of the errors is correctly specified."
      ],
      "text/plain": [
       "<class 'statsmodels.iolib.summary.Summary'>\n",
       "\"\"\"\n",
       "                             OLS Regression Results                             \n",
       "================================================================================\n",
       "Dep. Variable:     Monthly_Premium_Auto   R-squared:                       0.000\n",
       "Model:                              OLS   Adj. R-squared:                 -0.000\n",
       "Method:                   Least Squares   F-statistic:                   0.01569\n",
       "Date:                  Mon, 20 Apr 2020   Prob (F-statistic):              0.984\n",
       "Time:                          18:05:24   Log-Likelihood:                -45279.\n",
       "No. Observations:                  9134   AIC:                         9.056e+04\n",
       "Df Residuals:                      9131   BIC:                         9.058e+04\n",
       "Df Model:                             2                                         \n",
       "Covariance Type:              nonrobust                                         \n",
       "===================================================================================================\n",
       "                                      coef    std err          t      P>|t|      [0.025      0.975]\n",
       "---------------------------------------------------------------------------------------------------\n",
       "Intercept                          93.2383      0.776    120.199      0.000      91.718      94.759\n",
       "C(Policy_Type)[T.Personal Auto]    -0.0075      0.881     -0.008      0.993      -1.734       1.719\n",
       "C(Policy_Type)[T.Special Auto]     -0.3256      1.932     -0.168      0.866      -4.114       3.462\n",
       "==============================================================================\n",
       "Omnibus:                     4064.398   Durbin-Watson:                   1.999\n",
       "Prob(Omnibus):                  0.000   Jarque-Bera (JB):            21438.734\n",
       "Skew:                           2.123   Prob(JB):                         0.00\n",
       "Kurtosis:                       9.189   Cond. No.                         7.09\n",
       "==============================================================================\n",
       "\n",
       "Warnings:\n",
       "[1] Standard Errors assume that the covariance matrix of the errors is correctly specified.\n",
       "\"\"\""
      ]
     },
     "execution_count": 53,
     "metadata": {},
     "output_type": "execute_result"
    }
   ],
   "source": [
    "results.summary()"
   ]
  },
  {
   "cell_type": "code",
   "execution_count": 32,
   "metadata": {},
   "outputs": [
    {
     "name": "stdout",
     "output_type": "stream",
     "text": [
      "1.1952502171437527 0.8788800177920362\n",
      "Result is statistically Insignificant hence we can not reject null hypothesis\n"
     ]
    }
   ],
   "source": [
    "#Chi Square Test\n",
    "cont = pd.crosstab(data['State'],data['Gender'])\n",
    "cont\n",
    "stat, pval, dof, expected = scipy.stats.chi2_contingency(cont)\n",
    "print(stat,pval)\n",
    "if pval < 0.05:    # alpha value is 0.05 or 5%\n",
    "   print(\"Since P value is <0.05 so result is statistically significant and hence rejecting null hypothesis of both variables are independent\")\n",
    "else:\n",
    "  print('Result is statistically Insignificant hence we can not reject null hypothesis')"
   ]
  },
  {
   "cell_type": "code",
   "execution_count": 25,
   "metadata": {},
   "outputs": [],
   "source": [
    "#Corrleation Test\n",
    "from matplotlib import pyplot\n",
    "\n",
    "Customer Lifetime Value (USD)\n",
    "Total Claim Amount (USD)"
   ]
  },
  {
   "cell_type": "code",
   "execution_count": 27,
   "metadata": {},
   "outputs": [
    {
     "data": {
      "image/png": "[encoded data removed]",
      "text/plain": [
       "<Figure size 432x288 with 1 Axes>"
      ]
     },
     "metadata": {
      "needs_background": "light"
     },
     "output_type": "display_data"
    }
   ],
   "source": [
    "pyplot.scatter(data['Customer Lifetime Value (USD)'], data['Total Claim Amount (USD)'])\n",
    "pyplot.show()"
   ]
  },
  {
   "cell_type": "code",
   "execution_count": 30,
   "metadata": {},
   "outputs": [
    {
     "name": "stdout",
     "output_type": "stream",
     "text": [
      "Pearsons correlation: 0.226\n",
      "Pvalue 1.5501601809276793e-106\n",
      "Result is statistically Insignificant hence we can not reject null hypothesis\n"
     ]
    }
   ],
   "source": [
    "from scipy.stats import pearsonr\n",
    "corr, Pval = pearsonr(data['Customer Lifetime Value (USD)'], data['Total Claim Amount (USD)'])\n",
    "print('Pearsons correlation: %.3f' % corr)\n",
    "print('Pvalue',Pval)\n",
    "if pval < 0.05:    # alpha value is 0.05 or 5%\n",
    "   print(\"Since P value is <0.05 so result is statistically significant and hence rejecting null hypothesis of correlation exists between both variables\")\n",
    "else:\n",
    "  print('Result is statistically Insignificant hence we can not reject null hypothesis')"
   ]
  },
  {
   "attachments": {
    "image.png": {
     "image/png": "[encoded data removed]"
    }
   },
   "cell_type": "markdown",
   "metadata": {},
   "source": [
    "# Non Parametric Significant Test\n",
    "![image.png](attachment:image.png)"
   ]
  },
  {
   "cell_type": "code",
   "execution_count": 42,
   "metadata": {},
   "outputs": [],
   "source": [
    "#Signed Rank Test\n",
    "from scipy.stats import wilcoxon\n",
    "from scipy.stats import kruskal\n",
    "import scipy.stats as stats"
   ]
  },
  {
   "cell_type": "code",
   "execution_count": 95,
   "metadata": {},
   "outputs": [
    {
     "name": "stdout",
     "output_type": "stream",
     "text": [
      "Pvalue 5.7901141135645556e-11\n"
     ]
    }
   ],
   "source": [
    "stats, p_value = wilcoxon(data['Months Since Policy Inception'] - 50)\n",
    "print(\"Pvalue\", p_value)"
   ]
  },
  {
   "cell_type": "code",
   "execution_count": 88,
   "metadata": {},
   "outputs": [
    {
     "name": "stdout",
     "output_type": "stream",
     "text": [
      "Pval 0.24378756796050333\n"
     ]
    }
   ],
   "source": [
    "from scipy.stats import mannwhitneyu\n",
    "stat, p = stats.mannwhitneyu(data['Customer Lifetime Value (USD)'][data['Gender'] == 'M'], data['Customer Lifetime Value (USD)'][data['Gender'] == 'F'])\n",
    "print('Pval',p)"
   ]
  },
  {
   "cell_type": "code",
   "execution_count": 90,
   "metadata": {},
   "outputs": [
    {
     "name": "stdout",
     "output_type": "stream",
     "text": [
      "Pval 0.75809743997912\n"
     ]
    }
   ],
   "source": [
    "stat, p = stats.kruskal(data['Monthly Premium Auto (USD)'][data['Policy Type'] == 'Corporate Auto'], \n",
    "             data['Monthly Premium Auto (USD)'][data['Policy Type'] == 'Personal Auto'],\n",
    "             data['Monthly Premium Auto (USD)'][data['Policy Type'] == 'Special Auto'])\n",
    "print('Pval',p)"
   ]
  },
  {
   "cell_type": "code",
   "execution_count": 89,
   "metadata": {},
   "outputs": [
    {
     "name": "stdout",
     "output_type": "stream",
     "text": [
      "Pval 4.6532166978981714e-92\n"
     ]
    }
   ],
   "source": [
    "from scipy.stats import spearmanr\n",
    "stat, p = stats.spearmanr(data['Customer Lifetime Value (USD)'], data['Total Claim Amount (USD)'])\n",
    "print('Pval',p)"
   ]
  }
 ],
 "metadata": {
  "kernelspec": {
   "display_name": "Python 3",
   "language": "python",
   "name": "python3"
  },
  "language_info": {
   "codemirror_mode": {
    "name": "ipython",
    "version": 3
   },
   "file_extension": ".py",
   "mimetype": "text/x-python",
   "name": "python",
   "nbconvert_exporter": "python",
   "pygments_lexer": "ipython3",
   "version": "3.7.4"
  }
 },
 "nbformat": 4,
 "nbformat_minor": 2
}
